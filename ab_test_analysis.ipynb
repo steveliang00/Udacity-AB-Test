{
 "cells": [
  {
   "cell_type": "markdown",
   "id": "122b1750",
   "metadata": {},
   "source": [
    "# Udacity A/B Testing Report\n",
    "\n",
    "## Experiment Design\n",
    "In this experiment, Udacity changes the process so that if a student clicks \"start free trial,\" they are asked how much time they have available to devote to the course. If the student indicates 5 or more hours per week, they go through the checkout process as usual. If they indicate fewer than 5 hours per week, a message appears indicating that Udacity courses usually require a greater time commitment for successful completion, and suggests that the student might like to access the course materials for free. At this point, the student has the option to continue enrolling in the free trial or access the course materials for free instead. This screenshot shows what the experiment looks like.\n",
    "\n",
    "The hypothesis is that this might set clearer expectations for students upfront, thus reducing the number of frustrated students who leave the free trial because they don't have enough time—without significantly reducing the number of students who continue past the free trial and eventually complete the course. If this hypothesis holds true, Udacity can improve the overall student experience and increase coaches' capacity to support students who are likely to complete the course.\n",
    "\n",
    "The unit of diversion is a cookie, although if the student enrolls in the free trial, they are tracked by user-id from that point forward. The same user-id cannot enroll in the free trial twice. For users who do not enroll, their user-id is not tracked in the experiment, even if they are signed in when they visit the course overview page.\n",
    "\n",
    "## Metric Choice\n",
    "**Invariant Metrics:**\n",
    "- Number of Cookies\n",
    "- Number of Clicks on “Start Free Trial”\n",
    "- Click-through-probability on \"Start free trial\"\n",
    "\n",
    "These are the metrics that we do not expect to vary between the control and treatment groups. The number of cookies is the unit of diversion and therefore should be split evenly. Given that the control groups are split evenly, the number of clicks on “Start Free Trial” should also be similar, as the change has not occurred yet. The Click-through-probability on \"Start free trial\" should also be the same because the change has not occurred yet.\n",
    "\n",
    "**Evaluation Metrics:**\n",
    "- Retention\n",
    "- Gross Conversion\n",
    "- Net Conversion\n",
    "\n",
    "These are the metrics that may/should change. Retention is our main metric of concern and our objective is to make this metric go up. If we reduce the number of students that leave the free trial, then we expect a higher proportion of students continuing after the free trial. Gross Conversion is a metric that could potentially go down. Net conversion may go up or down and is a product of Gross Conversion and Retention\n",
    "\n",
    "## Measuring Standard Deviation\n",
    "\n",
    "Based on a sample of 5000 cookies\n",
    "\n",
    "| Metric Name      | Estimate | dmin    | SE       |\n",
    "|------------------|----------|---------|----------|\n",
    "| Gross conversion | 0.206250 | -0.0100 | 0.020231 |\n",
    "| Retention        | 0.530000 | 0.0100  | 0.054949 |\n",
    "| Net conversion   | 0.109313 | 0.0075  | 0.015602 |\n",
    "\n",
    "The empirical variability of Retention is likely to be different from the analytic estimate because the unit of analysis is now different from the unit of diversion. The denominator (users who enrolled) is post-randomization (enrollment happens after treatment assignment).\n",
    "\n",
    "This creates dependency between numerator and denominator, violating the independence assumption. In which case the analytical variance likely underestimates the true variability.\n",
    "\n",
    "Gross Conversion and Net Conversion likely have good analytic estimates because the unit of analysis is still the number of unique cookies.\n",
    "\n",
    "## Sizing\n",
    "**Retention:**\n",
    "We need 39,115 user-ids per group, which would become 2,370,607 when scaled to the number of cookies to view page. In total, we would need 4,741,214 cookies to view page to detect a minimum effect of 0.01 at 80% power and a 5% significance level.\n",
    "\n",
    "**Gross Conversion:**\n",
    "We need 25,835 cookies to click “Start Free Trial”, which would become 322,938 when scaled to the number of cookies to view page. In total we would need 645,876 cookies to view page to detect a minimum effect of -0.01 at 80% power and a 5% significance level.\n",
    "\n",
    "**Net Conversion:**\n",
    "We need 27,413 cookies to click “Start Free Trial”, which would become 342,538 when scaled to the number of cookies to view page. In total we would need 685,076 cookies to view page to detect a minimum effect of -0.01 at 80% power and a 5% significance level.\n",
    "\n",
    "## Duration and Exposure\n",
    "With 100% traffic diverted, we would need\n",
    "- Gross Conversion : 16.15 days\n",
    "- Net Conversion : 17.13 days\n",
    "- Retention : 118.53 days\n",
    "\n",
    "Retention is unfeasible to use as our evaluation metric, as it would take too long to see the effect. It would also be ill-advised to divert 100% of traffic because we wouldn’t be able to run any other experiments. \n",
    "\n",
    "With 80% of traffic diverted, we could complete the experiment for measuring Net Conversion and Gross Conversion in about 21.4 days, or about 3 weeks. The experiment itself is not very risky in nature so diverting 80% would be ambitious but feasible.\n"
   ]
  },
  {
   "cell_type": "markdown",
   "id": "3164b33b",
   "metadata": {},
   "source": [
    "## Analysis"
   ]
  },
  {
   "cell_type": "code",
   "execution_count": 2,
   "id": "78e5b61d",
   "metadata": {},
   "outputs": [],
   "source": [
    "import numpy as np\n",
    "import pandas as pd"
   ]
  },
  {
   "cell_type": "code",
   "execution_count": 17,
   "id": "1e0775eb",
   "metadata": {},
   "outputs": [
    {
     "data": {
      "text/html": [
       "<div>\n",
       "<style scoped>\n",
       "    .dataframe tbody tr th:only-of-type {\n",
       "        vertical-align: middle;\n",
       "    }\n",
       "\n",
       "    .dataframe tbody tr th {\n",
       "        vertical-align: top;\n",
       "    }\n",
       "\n",
       "    .dataframe thead th {\n",
       "        text-align: right;\n",
       "    }\n",
       "</style>\n",
       "<table border=\"1\" class=\"dataframe\">\n",
       "  <thead>\n",
       "    <tr style=\"text-align: right;\">\n",
       "      <th></th>\n",
       "      <th>Date</th>\n",
       "      <th>Pageviews</th>\n",
       "      <th>Clicks</th>\n",
       "      <th>Enrollments</th>\n",
       "      <th>Payments</th>\n",
       "    </tr>\n",
       "  </thead>\n",
       "  <tbody>\n",
       "    <tr>\n",
       "      <th>0</th>\n",
       "      <td>Sat, Oct 11</td>\n",
       "      <td>7723</td>\n",
       "      <td>687</td>\n",
       "      <td>134.0</td>\n",
       "      <td>70.0</td>\n",
       "    </tr>\n",
       "    <tr>\n",
       "      <th>1</th>\n",
       "      <td>Sun, Oct 12</td>\n",
       "      <td>9102</td>\n",
       "      <td>779</td>\n",
       "      <td>147.0</td>\n",
       "      <td>70.0</td>\n",
       "    </tr>\n",
       "    <tr>\n",
       "      <th>2</th>\n",
       "      <td>Mon, Oct 13</td>\n",
       "      <td>10511</td>\n",
       "      <td>909</td>\n",
       "      <td>167.0</td>\n",
       "      <td>95.0</td>\n",
       "    </tr>\n",
       "    <tr>\n",
       "      <th>3</th>\n",
       "      <td>Tue, Oct 14</td>\n",
       "      <td>9871</td>\n",
       "      <td>836</td>\n",
       "      <td>156.0</td>\n",
       "      <td>105.0</td>\n",
       "    </tr>\n",
       "    <tr>\n",
       "      <th>4</th>\n",
       "      <td>Wed, Oct 15</td>\n",
       "      <td>10014</td>\n",
       "      <td>837</td>\n",
       "      <td>163.0</td>\n",
       "      <td>64.0</td>\n",
       "    </tr>\n",
       "  </tbody>\n",
       "</table>\n",
       "</div>"
      ],
      "text/plain": [
       "          Date  Pageviews  Clicks  Enrollments  Payments\n",
       "0  Sat, Oct 11       7723     687        134.0      70.0\n",
       "1  Sun, Oct 12       9102     779        147.0      70.0\n",
       "2  Mon, Oct 13      10511     909        167.0      95.0\n",
       "3  Tue, Oct 14       9871     836        156.0     105.0\n",
       "4  Wed, Oct 15      10014     837        163.0      64.0"
      ]
     },
     "execution_count": 17,
     "metadata": {},
     "output_type": "execute_result"
    }
   ],
   "source": [
    "control = pd.read_csv('control.csv')\n",
    "control.head()\n"
   ]
  },
  {
   "cell_type": "code",
   "execution_count": 18,
   "id": "54d1a3e1",
   "metadata": {},
   "outputs": [
    {
     "data": {
      "text/html": [
       "<div>\n",
       "<style scoped>\n",
       "    .dataframe tbody tr th:only-of-type {\n",
       "        vertical-align: middle;\n",
       "    }\n",
       "\n",
       "    .dataframe tbody tr th {\n",
       "        vertical-align: top;\n",
       "    }\n",
       "\n",
       "    .dataframe thead th {\n",
       "        text-align: right;\n",
       "    }\n",
       "</style>\n",
       "<table border=\"1\" class=\"dataframe\">\n",
       "  <thead>\n",
       "    <tr style=\"text-align: right;\">\n",
       "      <th></th>\n",
       "      <th>Date</th>\n",
       "      <th>Pageviews</th>\n",
       "      <th>Clicks</th>\n",
       "      <th>Enrollments</th>\n",
       "      <th>Payments</th>\n",
       "    </tr>\n",
       "  </thead>\n",
       "  <tbody>\n",
       "    <tr>\n",
       "      <th>0</th>\n",
       "      <td>Sat, Oct 11</td>\n",
       "      <td>7716</td>\n",
       "      <td>686</td>\n",
       "      <td>105.0</td>\n",
       "      <td>34.0</td>\n",
       "    </tr>\n",
       "    <tr>\n",
       "      <th>1</th>\n",
       "      <td>Sun, Oct 12</td>\n",
       "      <td>9288</td>\n",
       "      <td>785</td>\n",
       "      <td>116.0</td>\n",
       "      <td>91.0</td>\n",
       "    </tr>\n",
       "    <tr>\n",
       "      <th>2</th>\n",
       "      <td>Mon, Oct 13</td>\n",
       "      <td>10480</td>\n",
       "      <td>884</td>\n",
       "      <td>145.0</td>\n",
       "      <td>79.0</td>\n",
       "    </tr>\n",
       "    <tr>\n",
       "      <th>3</th>\n",
       "      <td>Tue, Oct 14</td>\n",
       "      <td>9867</td>\n",
       "      <td>827</td>\n",
       "      <td>138.0</td>\n",
       "      <td>92.0</td>\n",
       "    </tr>\n",
       "    <tr>\n",
       "      <th>4</th>\n",
       "      <td>Wed, Oct 15</td>\n",
       "      <td>9793</td>\n",
       "      <td>832</td>\n",
       "      <td>140.0</td>\n",
       "      <td>94.0</td>\n",
       "    </tr>\n",
       "  </tbody>\n",
       "</table>\n",
       "</div>"
      ],
      "text/plain": [
       "          Date  Pageviews  Clicks  Enrollments  Payments\n",
       "0  Sat, Oct 11       7716     686        105.0      34.0\n",
       "1  Sun, Oct 12       9288     785        116.0      91.0\n",
       "2  Mon, Oct 13      10480     884        145.0      79.0\n",
       "3  Tue, Oct 14       9867     827        138.0      92.0\n",
       "4  Wed, Oct 15       9793     832        140.0      94.0"
      ]
     },
     "execution_count": 18,
     "metadata": {},
     "output_type": "execute_result"
    }
   ],
   "source": [
    "treatment = pd.read_csv('treatment.csv')\n",
    "treatment.head()\n"
   ]
  },
  {
   "cell_type": "code",
   "execution_count": 5,
   "id": "734708d2",
   "metadata": {},
   "outputs": [
    {
     "name": "stdout",
     "output_type": "stream",
     "text": [
      "690203\n"
     ]
    }
   ],
   "source": [
    "#check sample size and store it as sample_size\n",
    "sample_size_control = control[\"Pageviews\"].sum()\n",
    "sample_size_treatment = treatment[\"Pageviews\"].sum()\n",
    "sample_size = sample_size_control+sample_size_treatment\n",
    "print(sample_size)"
   ]
  },
  {
   "cell_type": "markdown",
   "id": "78b1a55b",
   "metadata": {},
   "source": [
    "### Sanity Checks"
   ]
  },
  {
   "cell_type": "code",
   "execution_count": 8,
   "id": "ddc51aa4",
   "metadata": {},
   "outputs": [
    {
     "name": "stdout",
     "output_type": "stream",
     "text": [
      "Control CTP: 0.082126\n",
      "Treatment CTP: 0.082182\n",
      "CTP Difference (Treatment - Control): 0.000057\n",
      "95% CI for difference: (-0.001239, 0.001352)\n"
     ]
    }
   ],
   "source": [
    "# Calculate Click-Through-Probability (CTP) for both groups\n",
    "control_ctp = control['Clicks'].sum() / control['Pageviews'].sum()\n",
    "treatment_ctp = treatment['Clicks'].sum() / treatment['Pageviews'].sum()\n",
    "\n",
    "# Calculate sample sizes\n",
    "n_control = control['Pageviews'].sum()\n",
    "n_treatment = treatment['Pageviews'].sum()\n",
    "\n",
    "# Calculate the difference in CTPs\n",
    "ctp_difference = treatment_ctp - control_ctp\n",
    "\n",
    "# Standard error for the difference between two proportions\n",
    "# SE = sqrt(p1(1-p1)/n1 + p2(1-p2)/n2)\n",
    "se_diff = np.sqrt(\n",
    "    (control_ctp * (1 - control_ctp)) / n_control + \n",
    "    (treatment_ctp * (1 - treatment_ctp)) / n_treatment\n",
    ")\n",
    "\n",
    "# Calculate 95% confidence interval for the difference\n",
    "z_score = 1.96\n",
    "ci_diff = (ctp_difference - z_score * se_diff, ctp_difference + z_score * se_diff)\n",
    "\n",
    "print(f\"Control CTP: {control_ctp:.6f}\")\n",
    "print(f\"Treatment CTP: {treatment_ctp:.6f}\")\n",
    "print(f\"CTP Difference (Treatment - Control): {ctp_difference:.6f}\")\n",
    "print(f\"95% CI for difference: ({ci_diff[0]:.6f}, {ci_diff[1]:.6f})\")\n",
    "\n"
   ]
  },
  {
   "cell_type": "code",
   "execution_count": 11,
   "id": "b5efa6de",
   "metadata": {},
   "outputs": [
    {
     "name": "stdout",
     "output_type": "stream",
     "text": [
      "Sign Test Results:\n",
      "Pageviews: p-value = 0.3240\n",
      "Number of days control > treatment (pageviews): 22\n",
      "Number of days control < treatment (pageviews): 14\n",
      "Number of days equal (pageviews): 1\n",
      "\n",
      "Clicks: p-value = 1.0000\n",
      "Number of days control > treatment (clicks): 18\n",
      "Number of days control < treatment (clicks): 18\n",
      "Number of days equal (clicks): 1\n"
     ]
    }
   ],
   "source": [
    "from scipy import stats\n",
    "\n",
    "# Pair the daily metrics and calculate differences\n",
    "pageview_differences = control['Pageviews'] - treatment['Pageviews']\n",
    "click_differences = control['Clicks'] - treatment['Clicks']\n",
    "\n",
    "# Perform sign test for pageviews\n",
    "pageview_sign_test = stats.binomtest(\n",
    "    (pageview_differences > 0).sum(),  # number of positive differences\n",
    "    n=len(pageview_differences),       # total number of pairs\n",
    "    p=0.5                             # null hypothesis probability\n",
    ")\n",
    "\n",
    "# Perform sign test for clicks\n",
    "click_sign_test = stats.binomtest(\n",
    "    (click_differences > 0).sum(),     # number of positive differences\n",
    "    n=len(click_differences),          # total number of pairs\n",
    "    p=0.5                             # null hypothesis probability\n",
    ")\n",
    "\n",
    "print(\"Sign Test Results:\")\n",
    "print(f\"Pageviews: p-value = {pageview_sign_test.pvalue:.4f}\")\n",
    "print(f\"Number of days control > treatment (pageviews): {(pageview_differences > 0).sum()}\")\n",
    "print(f\"Number of days control < treatment (pageviews): {(pageview_differences < 0).sum()}\")\n",
    "print(f\"Number of days equal (pageviews): {(pageview_differences == 0).sum()}\\n\")\n",
    "\n",
    "print(f\"Clicks: p-value = {click_sign_test.pvalue:.4f}\")\n",
    "print(f\"Number of days control > treatment (clicks): {(click_differences > 0).sum()}\")\n",
    "print(f\"Number of days control < treatment (clicks): {(click_differences < 0).sum()}\")\n",
    "print(f\"Number of days equal (clicks): {(click_differences == 0).sum()}\")"
   ]
  },
  {
   "cell_type": "markdown",
   "id": "1bb7e743",
   "metadata": {},
   "source": [
    "The sanity checks are passed, as there is no statistically significant difference in the click-through-probabilities between the two groups\n",
    "\n",
    "### A/B Test"
   ]
  },
  {
   "cell_type": "code",
   "execution_count": 20,
   "id": "61e62955",
   "metadata": {},
   "outputs": [
    {
     "name": "stdout",
     "output_type": "stream",
     "text": [
      "Control Gross Conversion: 0.218875\n",
      "Treatment Gross Conversion: 0.198320\n",
      "Gross Conversion Diff: -0.020555\n",
      "95% CI for Gross Conversion Diff: (-0.029120, -0.011989)\n",
      "\n",
      "Control Net Conversion: 0.117562\n",
      "Treatment Net Conversion: 0.112688\n",
      "Net Conversion Diff: -0.004874\n",
      "95% CI for Net Conversion Diff: (-0.011604, 0.001857)\n"
     ]
    }
   ],
   "source": [
    "# Sample sizes for denominator (Clicks with non-null Enrollments/Payments)\n",
    "control_clicks = control.loc[control['Enrollments'].notnull(), 'Clicks'].sum()\n",
    "treatment_clicks = treatment.loc[treatment['Enrollments'].notnull(), 'Clicks'].sum()\n",
    "\n",
    "# Calculate Gross Conversion and Net Conversion for both groups\n",
    "control_gross = control['Enrollments'].sum() / control_clicks\n",
    "treatment_gross = treatment['Enrollments'].sum() / treatment_clicks\n",
    "control_net = control['Payments'].sum() / control_clicks\n",
    "treatment_net = treatment['Payments'].sum() / treatment_clicks\n",
    "\n",
    "\n",
    "\n",
    "# Standard errors\n",
    "se_gross = np.sqrt(\n",
    "    (control_gross * (1 - control_gross)) / control_clicks +\n",
    "    (treatment_gross * (1 - treatment_gross)) / treatment_clicks\n",
    ")\n",
    "se_net = np.sqrt(\n",
    "    (control_net * (1 - control_net)) / control_clicks +\n",
    "    (treatment_net * (1 - treatment_net)) / treatment_clicks\n",
    ")\n",
    "\n",
    "# Differences\n",
    "gross_diff = treatment_gross - control_gross\n",
    "net_diff = treatment_net - control_net\n",
    "\n",
    "# 95% confidence intervals\n",
    "ci_gross = (gross_diff - z_score * se_gross, gross_diff + z_score * se_gross)\n",
    "ci_net = (net_diff - z_score * se_net, net_diff + z_score * se_net)\n",
    "\n",
    "print(f\"Control Gross Conversion: {control_gross:.6f}\")\n",
    "print(f\"Treatment Gross Conversion: {treatment_gross:.6f}\")\n",
    "print(f\"Gross Conversion Diff: {gross_diff:.6f}\")\n",
    "print(f\"95% CI for Gross Conversion Diff: ({ci_gross[0]:.6f}, {ci_gross[1]:.6f})\\n\")\n",
    "\n",
    "print(f\"Control Net Conversion: {control_net:.6f}\")\n",
    "print(f\"Treatment Net Conversion: {treatment_net:.6f}\")\n",
    "print(f\"Net Conversion Diff: {net_diff:.6f}\")\n",
    "print(f\"95% CI for Net Conversion Diff: ({ci_net[0]:.6f}, {ci_net[1]:.6f})\")"
   ]
  },
  {
   "cell_type": "markdown",
   "id": "7676928f",
   "metadata": {},
   "source": [
    "There is a statistically significant and practically significant difference for Gross Conversion but not for Net Conversion. "
   ]
  },
  {
   "cell_type": "markdown",
   "id": "e9e971e8",
   "metadata": {},
   "source": [
    "## Conclusion\n",
    "\n",
    "Our hypothesis that Gross Conversion would decrease from filtering out students that were less suited for enrollment was supported by our A/B test. However, this experiment alone does not give a sufficient indication on whether the enrolled student experience improved and does not show that there is a change in the number of paying users. Given this result, we would recommend Udacity not to launch the change, as there is no clear benefit shown from these results alone. Further experiements could explore whether or not enrolled students had a better experience and how student coaching factors into satisfaction.\n",
    "\n",
    "## Follow up experiment\n",
    "\n",
    "We could test whether users that started a free trial would be more likely to become a paying user if they received a prompt for student coaching during the free trial. The impact, if significant, would be fairly impactful for business revenue."
   ]
  }
 ],
 "metadata": {
  "kernelspec": {
   "display_name": "default",
   "language": "python",
   "name": "python3"
  },
  "language_info": {
   "codemirror_mode": {
    "name": "ipython",
    "version": 3
   },
   "file_extension": ".py",
   "mimetype": "text/x-python",
   "name": "python",
   "nbconvert_exporter": "python",
   "pygments_lexer": "ipython3",
   "version": "3.13.2"
  }
 },
 "nbformat": 4,
 "nbformat_minor": 5
}
